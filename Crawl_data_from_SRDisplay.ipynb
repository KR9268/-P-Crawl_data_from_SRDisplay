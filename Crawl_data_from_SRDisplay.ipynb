{
 "cells": [
  {
   "cell_type": "code",
   "execution_count": 1,
   "metadata": {},
   "outputs": [],
   "source": [
    "import pandas as pd\n",
    "import sys # 별도 파일로 보관중인 패키지 불러오기용(환경변수 추가)\n",
    "sys.path.append('C:\\\\python_source')\n",
    "\n",
    "import NERP_PI_LC\n",
    "\n",
    "sessions = NERP_PI_LC.check_and_open_sap('System name', 'ID', 'PW',3)\n",
    "session = sessions[1]\n",
    "\n",
    "def crawl_hscode_with_sr(session, sr_no):\n",
    "    dict_result = dict()\n",
    "    session.StartTransaction('ZLED50110_D')\n",
    "    session.findById(\"wnd[0]/usr/ctxtG_TKNUM\").text = sr_no\n",
    "    session.findById(\"wnd[0]\").sendVKey(0)\n",
    "\n",
    "    # Sales, Plant\n",
    "    dict_result['SalesOrg'] = session.findById(\"wnd[0]/usr/txtGT_SR-ZZVKORG\").text\n",
    "    dict_result['PlantCode'] = session.findById(\"wnd[0]/usr/txtGT_SR-ZZWERKS\").text\n",
    "    dict_result['PlaneName'] = session.findById(\"wnd[0]/usr/txtGT_SR-WERKS_NAME\").text\n",
    "\n",
    "    # Port\n",
    "    session.findById(\"wnd[0]/usr/tabsSUB/tabpSUB_FC1\").select()\n",
    "    dict_result['POL'] = session.findById(\"wnd[0]/usr/tabsSUB/tabpSUB_FC1/ssubSUB_SCA:SAPMZLED50110:0310/txtG_LOAD_TEXT\").text\n",
    "    dict_result['F.Dest'] = session.findById(\"wnd[0]/usr/tabsSUB/tabpSUB_FC1/ssubSUB_SCA:SAPMZLED50110:0310/txtG_FDEST_TEXT\").text\n",
    "\n",
    "    # HSCODE\n",
    "    session.findById(\"wnd[0]/usr/tabsSUB/tabpSUB_FC4\").select()\n",
    "    temp_set_hscode = set()\n",
    "    temp_set_itemname = set()\n",
    "    total_row = session.findById(\"wnd[0]/usr/tabsSUB/tabpSUB_FC4/ssubSUB_SCA:SAPMZLED50110:0340/tblSAPMZLED50110TC_0340A\").RowCount\n",
    "    for idx in range((total_row)):\n",
    "        session.findById(\"wnd[0]/usr/tabsSUB/tabpSUB_FC4/ssubSUB_SCA:SAPMZLED50110:0340/tblSAPMZLED50110TC_0340A\").verticalScrollbar.position = idx\n",
    "        temp_set_itemname.add(session.findById(f\"wnd[0]/usr/tabsSUB/tabpSUB_FC4/ssubSUB_SCA:SAPMZLED50110:0340/tblSAPMZLED50110TC_0340A/txtGT_MAT-GOODS_DESC1[13,{0}]\").text)\n",
    "        temp_set_hscode.add(session.findById(f\"wnd[0]/usr/tabsSUB/tabpSUB_FC4/ssubSUB_SCA:SAPMZLED50110:0340/tblSAPMZLED50110TC_0340A/txtGT_MAT-ZZSTAWN[14,{0}]\").text)\n",
    "    \n",
    "    # 여러건의 데이터를 한 줄의 데이터로 합치기\n",
    "    dict_result['HSCODE'] = ', '.join(temp_set_hscode)\n",
    "    dict_result['Description'] = ', '.join(temp_set_itemname)\n",
    "\n",
    "    session.findById(\"wnd[0]\").sendVKey(3)\n",
    "\n",
    "    return dict_result"
   ]
  },
  {
   "cell_type": "markdown",
   "metadata": {},
   "source": [
    "## 1건 확인용"
   ]
  },
  {
   "cell_type": "code",
   "execution_count": 2,
   "metadata": {},
   "outputs": [
    {
     "name": "stdout",
     "output_type": "stream",
     "text": [
      "* INV\n",
      "SalesOrg : 9999\n",
      "PlantCode : P000\n",
      "PlaneName : Dummy Plant\n",
      "POL : Gwangyang,South Korea\n",
      "F.Dest : Tunis,Tunisia\n",
      "HSCODE : 8415102010, 8415102020, 8415900000\n",
      "Description : REFRIDGERATER\n"
     ]
    }
   ],
   "source": [
    "# SR 1건 확인\n",
    "sr_no = 'INV'\n",
    "data_all = crawl_hscode_with_sr(session, sr_no)\n",
    "\n",
    "# 엑셀저장용으로 데이터프레임 생성\n",
    "df = pd.DataFrame(columns=[list(data_all.keys())])\n",
    "for each_col in data_all.keys():\n",
    "    df.loc[sr_no, each_col] = data_all[each_col]\n",
    "\n",
    "# 결과출력\n",
    "print('*', sr_no)\n",
    "for key in data_all.keys():\n",
    "    print(key+' :', data_all[key])"
   ]
  },
  {
   "cell_type": "markdown",
   "metadata": {},
   "source": [
    "## 여러건 확인용\n",
    "* sr_no의 '''와 ''' 사이에 붙여넣고 실행 (엑셀 등에서 표를 바로 붙여넣기 편하도록 설계)"
   ]
  },
  {
   "cell_type": "code",
   "execution_count": 3,
   "metadata": {},
   "outputs": [
    {
     "data": {
      "text/html": [
       "<div>\n",
       "<style scoped>\n",
       "    .dataframe tbody tr th:only-of-type {\n",
       "        vertical-align: middle;\n",
       "    }\n",
       "\n",
       "    .dataframe tbody tr th {\n",
       "        vertical-align: top;\n",
       "    }\n",
       "\n",
       "    .dataframe thead tr th {\n",
       "        text-align: left;\n",
       "    }\n",
       "</style>\n",
       "<table border=\"1\" class=\"dataframe\">\n",
       "  <thead>\n",
       "    <tr>\n",
       "      <th></th>\n",
       "      <th>SalesOrg</th>\n",
       "      <th>PlantCode</th>\n",
       "      <th>PlaneName</th>\n",
       "      <th>POL</th>\n",
       "      <th>F.Dest</th>\n",
       "      <th>HSCODE</th>\n",
       "      <th>Description</th>\n",
       "    </tr>\n",
       "  </thead>\n",
       "  <tbody>\n",
       "    <tr>\n",
       "      <th>INV1</th>\n",
       "      <td>R002</td>\n",
       "      <td>P000</td>\n",
       "      <td>DUMMY PLANT1</td>\n",
       "      <td>Busan,South Korea</td>\n",
       "      <td>Matadi,Dem. Rep. Congo</td>\n",
       "      <td>8415900000, 8415102010</td>\n",
       "      <td>REFRIDGERATOR</td>\n",
       "    </tr>\n",
       "    <tr>\n",
       "      <th>INV2</th>\n",
       "      <td>Q001</td>\n",
       "      <td>P000</td>\n",
       "      <td>DUMMY PLANT2</td>\n",
       "      <td>Incheon Intl Apt/Seoul,South Korea</td>\n",
       "      <td>Dhaka,Bangladesh</td>\n",
       "      <td>8542391000</td>\n",
       "      <td>WASHING MACHINE</td>\n",
       "    </tr>\n",
       "  </tbody>\n",
       "</table>\n",
       "</div>"
      ],
      "text/plain": [
       "           SalesOrg PlantCode                PlaneName  \\\n",
       "9102399235     R002      P174           [SEC]A/C Plant   \n",
       "9102384619     Q001      P104  [SEC]Mobile Gumi-Bonded   \n",
       "\n",
       "                                           POL                  F.Dest  \\\n",
       "9102399235                   Busan,South Korea  Matadi,Dem. Rep. Congo   \n",
       "9102384619  Incheon Intl Apt/Seoul,South Korea        Dhaka,Bangladesh   \n",
       "\n",
       "                            HSCODE                          Description  \n",
       "9102399235  8415900000, 8415102010  SAMSUNG BRAND SYSTEM AIRCONDITIONER  \n",
       "9102384619              8542391000       PARTS FOR SAMSUNG MOBILE PHONE  "
      ]
     },
     "execution_count": 3,
     "metadata": {},
     "output_type": "execute_result"
    }
   ],
   "source": [
    "# SR 여러건 확인\n",
    "sr_no = '''\n",
    "INV1\n",
    "INV2\n",
    "'''.split('\\n')\n",
    "\n",
    "sr_no = list(set(sr_no))\n",
    "sr_no.remove('')\n",
    "\n",
    "#빈 DataFrame 생성\n",
    "df = pd.DataFrame(columns=[list(crawl_hscode_with_sr(session, sr_no[0]).keys())])\n",
    "\n",
    "for idx, each_sr in enumerate(sr_no):\n",
    "    data_all = crawl_hscode_with_sr(session, each_sr)\n",
    "    #set_hscode = crawl_hscode_with_sr(session, each_sr)\n",
    "    #df = pd.concat([df, pd.DataFrame({'SR NO': each_sr, 'HSCODE': data_all})], ignore_index=True)\n",
    "    for each_col in data_all.keys():\n",
    "        df.loc[each_sr,each_col] = data_all[each_col]\n",
    "\n",
    "df\n"
   ]
  },
  {
   "cell_type": "markdown",
   "metadata": {},
   "source": [
    "## 확인한 내용 엑셀로 저장"
   ]
  },
  {
   "cell_type": "code",
   "execution_count": 4,
   "metadata": {},
   "outputs": [],
   "source": [
    "# 엑셀파일로 저장\n",
    "from datetime import datetime\n",
    "\n",
    "df.to_excel(f'shipment_info_summary_{datetime.strftime(datetime.today(),\"%Y%m%d\")}.xlsx')"
   ]
  }
 ],
 "metadata": {
  "kernelspec": {
   "display_name": "Python 3",
   "language": "python",
   "name": "python3"
  },
  "language_info": {
   "codemirror_mode": {
    "name": "ipython",
    "version": 3
   },
   "file_extension": ".py",
   "mimetype": "text/x-python",
   "name": "python",
   "nbconvert_exporter": "python",
   "pygments_lexer": "ipython3",
   "version": "3.11.4"
  }
 },
 "nbformat": 4,
 "nbformat_minor": 2
}
